{
 "cells": [
  {
   "cell_type": "code",
   "execution_count": 1,
   "id": "a7cc31aa-443e-4e55-adef-18de1d6477c3",
   "metadata": {},
   "outputs": [],
   "source": [
    "import pandas as pd"
   ]
  },
  {
   "cell_type": "code",
   "execution_count": 2,
   "id": "1a6776e7-5f7e-4106-8177-07d31fc75c4f",
   "metadata": {},
   "outputs": [
    {
     "name": "stdout",
     "output_type": "stream",
     "text": [
      "        Rank                                              Name Platform  \\\n",
      "0          1                                        Wii Sports      Wii   \n",
      "1          2                                 Super Mario Bros.      NES   \n",
      "2          3                                    Mario Kart Wii      Wii   \n",
      "3          4                                 Wii Sports Resort      Wii   \n",
      "4          5                          Pokemon Red/Pokemon Blue       GB   \n",
      "...      ...                                               ...      ...   \n",
      "16593  16596                Woody Woodpecker in Crazy Castle 5      GBA   \n",
      "16594  16597                     Men in Black II: Alien Escape       GC   \n",
      "16595  16598  SCORE International Baja 1000: The Official Game      PS2   \n",
      "16596  16599                                        Know How 2       DS   \n",
      "16597  16600                                  Spirits & Spells      GBA   \n",
      "\n",
      "         Year         Genre   Publisher  NA_Sales  EU_Sales  JP_Sales  \\\n",
      "0      2006.0        Sports    Nintendo     41.49     29.02      3.77   \n",
      "1      1985.0      Platform    Nintendo     29.08      3.58      6.81   \n",
      "2      2008.0        Racing    Nintendo     15.85     12.88      3.79   \n",
      "3      2009.0        Sports    Nintendo     15.75     11.01      3.28   \n",
      "4      1996.0  Role-Playing    Nintendo     11.27      8.89     10.22   \n",
      "...       ...           ...         ...       ...       ...       ...   \n",
      "16593  2002.0      Platform       Kemco      0.01      0.00      0.00   \n",
      "16594  2003.0       Shooter  Infogrames      0.01      0.00      0.00   \n",
      "16595  2008.0        Racing  Activision      0.00      0.00      0.00   \n",
      "16596  2010.0        Puzzle    7G//AMES      0.00      0.01      0.00   \n",
      "16597  2003.0      Platform     Wanadoo      0.01      0.00      0.00   \n",
      "\n",
      "       Other_Sales  Global_Sales  \n",
      "0             8.46         82.74  \n",
      "1             0.77         40.24  \n",
      "2             3.31         35.82  \n",
      "3             2.96         33.00  \n",
      "4             1.00         31.37  \n",
      "...            ...           ...  \n",
      "16593         0.00          0.01  \n",
      "16594         0.00          0.01  \n",
      "16595         0.00          0.01  \n",
      "16596         0.00          0.01  \n",
      "16597         0.00          0.01  \n",
      "\n",
      "[16598 rows x 11 columns]\n"
     ]
    }
   ],
   "source": [
    "df=pd.read_csv(\"D:/dharineesh excel/vgsales.csv\")\n",
    "print(df)"
   ]
  },
  {
   "cell_type": "code",
   "execution_count": 3,
   "id": "a4bf1289-bb9e-453c-965a-0e1e585774c2",
   "metadata": {},
   "outputs": [
    {
     "name": "stdout",
     "output_type": "stream",
     "text": [
      "Index(['Rank', 'Name', 'Platform', 'Year', 'Genre', 'Publisher', 'NA_Sales',\n",
      "       'EU_Sales', 'JP_Sales', 'Other_Sales', 'Global_Sales'],\n",
      "      dtype='object')\n"
     ]
    }
   ],
   "source": [
    "print(df.columns)"
   ]
  },
  {
   "cell_type": "code",
   "execution_count": 5,
   "id": "fa0e9855-bbeb-4ae9-87d9-81ff0403c416",
   "metadata": {},
   "outputs": [
    {
     "name": "stdout",
     "output_type": "stream",
     "text": [
      "0         3.77\n",
      "1         6.81\n",
      "2         3.79\n",
      "3         3.28\n",
      "4        10.22\n",
      "         ...  \n",
      "16593     0.00\n",
      "16594     0.00\n",
      "16595     0.00\n",
      "16596     0.00\n",
      "16597     0.00\n",
      "Name: JP_Sales, Length: 16598, dtype: float64\n"
     ]
    }
   ],
   "source": [
    "print(df.JP_Sales)"
   ]
  },
  {
   "cell_type": "code",
   "execution_count": 7,
   "id": "eacffcd2-5b3c-4aaa-8fa0-17acf8a0b83f",
   "metadata": {},
   "outputs": [
    {
     "name": "stdout",
     "output_type": "stream",
     "text": [
      "1291.0200000000002\n"
     ]
    }
   ],
   "source": [
    "print(df[\"JP_Sales\"].sum())"
   ]
  },
  {
   "cell_type": "code",
   "execution_count": 8,
   "id": "329e8f0c-2491-42e6-9260-65cabb22d424",
   "metadata": {},
   "outputs": [
    {
     "name": "stdout",
     "output_type": "stream",
     "text": [
      "10.22\n"
     ]
    }
   ],
   "source": [
    "print(df['JP_Sales'].max())"
   ]
  },
  {
   "cell_type": "code",
   "execution_count": 9,
   "id": "a9945d3b-1f0d-4fca-95b7-f330bfad9e33",
   "metadata": {},
   "outputs": [
    {
     "name": "stdout",
     "output_type": "stream",
     "text": [
      "0.0\n"
     ]
    }
   ],
   "source": [
    "print(df['JP_Sales'].min())"
   ]
  },
  {
   "cell_type": "code",
   "execution_count": 10,
   "id": "9bd1720b-d198-4b9d-be02-fc55bfb85dd1",
   "metadata": {},
   "outputs": [
    {
     "name": "stdout",
     "output_type": "stream",
     "text": [
      "0.077781660441017\n"
     ]
    }
   ],
   "source": [
    "print(df[ 'JP_Sales'].mean())"
   ]
  },
  {
   "cell_type": "code",
   "execution_count": 11,
   "id": "1dc67c8b-4186-40af-8f5e-9d5b2697da84",
   "metadata": {},
   "outputs": [
    {
     "name": "stdout",
     "output_type": "stream",
     "text": [
      "0    0.0\n",
      "Name: JP_Sales, dtype: float64\n"
     ]
    }
   ],
   "source": [
    "print(df[\"JP_Sales\"].mode())"
   ]
  },
  {
   "cell_type": "code",
   "execution_count": 12,
   "id": "9056aa07-7930-417c-b663-4fad069e0c85",
   "metadata": {},
   "outputs": [
    {
     "name": "stdout",
     "output_type": "stream",
     "text": [
      "0        8.46\n",
      "1        0.77\n",
      "2        3.31\n",
      "3        2.96\n",
      "4        1.00\n",
      "         ... \n",
      "16593    0.00\n",
      "16594    0.00\n",
      "16595    0.00\n",
      "16596    0.00\n",
      "16597    0.00\n",
      "Name: Other_Sales, Length: 16598, dtype: float64\n"
     ]
    }
   ],
   "source": [
    "print(df.Other_Sales)"
   ]
  },
  {
   "cell_type": "code",
   "execution_count": null,
   "id": "73653504-c8b8-4697-ac50-0a0abb0ea7ad",
   "metadata": {},
   "outputs": [],
   "source": []
  }
 ],
 "metadata": {
  "kernelspec": {
   "display_name": "Python 3 (ipykernel)",
   "language": "python",
   "name": "python3"
  },
  "language_info": {
   "codemirror_mode": {
    "name": "ipython",
    "version": 3
   },
   "file_extension": ".py",
   "mimetype": "text/x-python",
   "name": "python",
   "nbconvert_exporter": "python",
   "pygments_lexer": "ipython3",
   "version": "3.13.1"
  }
 },
 "nbformat": 4,
 "nbformat_minor": 5
}
